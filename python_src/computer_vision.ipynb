{
 "cells": [
  {
   "cell_type": "markdown",
   "metadata": {},
   "source": [
    "# Start TF Session"
   ]
  },
  {
   "cell_type": "code",
   "execution_count": 1,
   "metadata": {},
   "outputs": [],
   "source": [
    "import tensorflow as tf\n",
    "import numpy as np\n",
    "np.set_printoptions(suppress=True)\n",
    "\n",
    "sess = tf.InteractiveSession()"
   ]
  },
  {
   "cell_type": "code",
   "execution_count": 13,
   "metadata": {},
   "outputs": [],
   "source": [
    "# Imports for visualization\n",
    "import PIL.Image\n",
    "from io import StringIO\n",
    "from IPython.display import clear_output, Image, display\n",
    "import scipy.ndimage as nd\n",
    "import scipy.signal\n",
    "from pathlib import Path\n",
    "\n",
    "from matplotlib.pyplot import imshow\n",
    "import numpy as np\n",
    "from PIL import Image\n",
    "\n",
    "%matplotlib inline\n"
   ]
  },
  {
   "cell_type": "code",
   "execution_count": 11,
   "metadata": {},
   "outputs": [
    {
     "name": "stdout",
     "output_type": "stream",
     "text": [
      "Loaded ..\\data\\screenshots\\ss.png (974px x 1047px)\n"
     ]
    }
   ],
   "source": [
    "img_path = Path(\"..\")/\"data\"/\"screenshots\"/\"ss.png\"\n",
    "\n",
    "# img_file = 'lichess_5.png'\n",
    "\n",
    "# folder = \"chessboards/input_chessboards\"\n",
    "# folder = \"chessboards/test_chessboards\"\n",
    "\n",
    "img = PIL.Image.open(img_path)\n",
    "\n",
    "print( \"Loaded %s (%dpx x %dpx)\" % \\\n",
    "    (img_file, img.size[0], img.size[1]) )"
   ]
  },
  {
   "cell_type": "code",
   "execution_count": 14,
   "metadata": {},
   "outputs": [
    {
     "data": {
      "text/plain": [
       "<matplotlib.image.AxesImage at 0x269e26a8128>"
      ]
     },
     "execution_count": 14,
     "metadata": {},
     "output_type": "execute_result"
    },
    {
     "data": {
      "image/png": "[encoded data removed]",
      "text/plain": [
       "<Figure size 432x288 with 1 Axes>"
      ]
     },
     "metadata": {
      "needs_background": "light"
     },
     "output_type": "display_data"
    }
   ],
   "source": [
    "\n",
    "\n",
    "# Resize if image larger than 2k pixels on a side\n",
    "if img.size[0] > 2000 or img.size[1] > 2000:\n",
    "    print (\"Image too big (%d x %d)\" % (img.size[0], img.size[1]))\n",
    "    new_size = 500.0 # px\n",
    "    if img.size[0] > img.size[1]:\n",
    "        # resize by width to new limit\n",
    "        ratio = new_size / img.size[0]\n",
    "    else:\n",
    "        # resize by height\n",
    "        ratio = new_size / img.size[1]\n",
    "    print( \"Reducing by factor of %.2g\" % (1./ratio) )\n",
    "    img = img.resize(img.size * ratio, PIL.Image.ADAPTIVE)\n",
    "    print( \"New size: (%d x %d)\" % (img.size[0], img.size[1]) )\n",
    "\n",
    "# See original image\n",
    "#display_array(np.asarray(img), rng=[0,255])\n",
    "\n",
    "imshow(np.asarray(img))"
   ]
  },
  {
   "cell_type": "markdown",
   "metadata": {},
   "source": [
    "# Hello\n"
   ]
  }
 ],
 "metadata": {
  "kernelspec": {
   "display_name": "Python 3",
   "language": "python",
   "name": "python3"
  },
  "language_info": {
   "codemirror_mode": {
    "name": "ipython",
    "version": 3
   },
   "file_extension": ".py",
   "mimetype": "text/x-python",
   "name": "python",
   "nbconvert_exporter": "python",
   "pygments_lexer": "ipython3",
   "version": "3.6.6"
  }
 },
 "nbformat": 4,
 "nbformat_minor": 1
}
